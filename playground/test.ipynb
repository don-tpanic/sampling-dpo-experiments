{
 "cells": [
  {
   "cell_type": "code",
   "execution_count": 1,
   "id": "e26c2ba8",
   "metadata": {},
   "outputs": [],
   "source": [
    "import torch\n",
    "import torch.nn.functional as F"
   ]
  },
  {
   "cell_type": "code",
   "execution_count": 2,
   "id": "8c31de23",
   "metadata": {},
   "outputs": [
    {
     "name": "stdout",
     "output_type": "stream",
     "text": [
      "logits.shape: torch.Size([2, 2, 3])\n",
      "labels.shape: torch.Size([2, 2])\n"
     ]
    },
    {
     "data": {
      "text/plain": [
       "tensor([[0.2000, 0.6000],\n",
       "        [0.7000, 1.1000]])"
      ]
     },
     "execution_count": 2,
     "metadata": {},
     "output_type": "execute_result"
    }
   ],
   "source": [
    "# logits (bsz, seq_len, num_classes)\n",
    "logits = torch.tensor([\n",
    "    [[0.1, 0.2, 0.3], [0.4, 0.5, 0.6]],\n",
    "    [[0.7, 0.8, 0.9], [1.0, 1.1, 1.2]]\n",
    "])\n",
    "print(\"logits.shape:\", logits.shape)\n",
    "\n",
    "labels = torch.tensor([\n",
    "    [1, 2],  # First sequence: class 1 at position 0\n",
    "    [0, 1]   # Second sequence: class 0 at position 0\n",
    "])\n",
    "print(\"labels.shape:\", labels.shape)\n",
    "\n",
    "torch.gather(logits, dim=-1, index=labels.unsqueeze(-1)).squeeze(-1)"
   ]
  },
  {
   "cell_type": "code",
   "execution_count": 3,
   "id": "df52fd9b",
   "metadata": {},
   "outputs": [
    {
     "name": "stdout",
     "output_type": "stream",
     "text": [
      "uniform_probs tensor([[[0.3333, 0.3333, 0.3333],\n",
      "         [0.3333, 0.3333, 0.3333]],\n",
      "\n",
      "        [[0.3333, 0.3333, 0.3333],\n",
      "         [0.3333, 0.3333, 0.3333]]])\n",
      "kl torch.Size([2, 2, 3]) tensor([[[ 0.0344,  0.0011, -0.0322],\n",
      "         [ 0.0344,  0.0011, -0.0322]],\n",
      "\n",
      "        [[ 0.0344,  0.0011, -0.0322],\n",
      "         [ 0.0344,  0.0011, -0.0322]]])\n"
     ]
    }
   ],
   "source": [
    "uniform_probs = F.softmax(torch.ones_like(logits) / logits.shape[-1], dim=-1)\n",
    "log_probs = F.log_softmax(logits, dim=-1)\n",
    "print(\"uniform_probs\", uniform_probs)\n",
    "kl = F.kl_div(log_probs, uniform_probs, reduction='none')\n",
    "print(\"kl\", kl.shape, kl)"
   ]
  },
  {
   "cell_type": "code",
   "execution_count": 2,
   "id": "b5486c52",
   "metadata": {},
   "outputs": [
    {
     "name": "stderr",
     "output_type": "stream",
     "text": [
      "/datadrive1/ken/miniconda3/envs/videollama/lib/python3.9/site-packages/tqdm/auto.py:22: TqdmWarning: IProgress not found. Please update jupyter and ipywidgets. See https://ipywidgets.readthedocs.io/en/stable/user_install.html\n",
      "  from .autonotebook import tqdm as notebook_tqdm\n",
      "/datadrive1/ken/miniconda3/envs/videollama/lib/python3.9/site-packages/transformers/tokenization_utils_base.py:1601: FutureWarning: `clean_up_tokenization_spaces` was not set. It will be set to `True` by default. This behavior will be depracted in transformers v4.45, and will be then set to `False` by default. For more details check this issue: https://github.com/huggingface/transformers/issues/31884\n",
      "  warnings.warn(\n"
     ]
    }
   ],
   "source": [
    "from transformers import GPT2Tokenizer, GPT2LMHeadModel\n",
    "\n",
    "tokenizer = GPT2Tokenizer.from_pretrained(\"openai-community/gpt2\")\n",
    "model = GPT2LMHeadModel.from_pretrained(\"openai-community/gpt2\")\n",
    "\n",
    "# generation_output = model.generate(**inputs, return_dict_in_generate=True, output_scores=True)"
   ]
  },
  {
   "cell_type": "code",
   "execution_count": 3,
   "id": "b1fa5637",
   "metadata": {},
   "outputs": [
    {
     "name": "stdout",
     "output_type": "stream",
     "text": [
      "fake_input_ids.shape: torch.Size([2, 4])\n"
     ]
    }
   ],
   "source": [
    "bsz = 2\n",
    "seq_len = 4\n",
    "vocab_size = 50257\n",
    "\n",
    "fake_input_ids = torch.randint(0, vocab_size, (bsz, seq_len))  # Random input IDs for demonstration\n",
    "print(\"fake_input_ids.shape:\", fake_input_ids.shape)"
   ]
  },
  {
   "cell_type": "code",
   "execution_count": 4,
   "id": "7526c9ff",
   "metadata": {},
   "outputs": [
    {
     "name": "stderr",
     "output_type": "stream",
     "text": [
      "The attention mask and the pad token id were not set. As a consequence, you may observe unexpected behavior. Please pass your input's `attention_mask` to obtain reliable results.\n",
      "Setting `pad_token_id` to `eos_token_id`:50256 for open-end generation.\n",
      "The attention mask is not set and cannot be inferred from input because pad token is same as eos token. As a consequence, you may observe unexpected behavior. Please pass your input's `attention_mask` to obtain reliable results.\n"
     ]
    }
   ],
   "source": [
    "attention_mask = torch.ones(fake_input_ids.shape, dtype=torch.long)  # Dummy attention mask\n",
    "\n",
    "outputs = model.generate(\n",
    "    input_ids=fake_input_ids,\n",
    "    max_length=10,\n",
    "    num_return_sequences=1,\n",
    "    return_dict_in_generate=True,\n",
    "    output_scores=True\n",
    ")"
   ]
  },
  {
   "cell_type": "code",
   "execution_count": 5,
   "id": "5a360086",
   "metadata": {},
   "outputs": [
    {
     "data": {
      "text/plain": [
       "torch.Size([2, 10])"
      ]
     },
     "execution_count": 5,
     "metadata": {},
     "output_type": "execute_result"
    }
   ],
   "source": [
    "outputs.sequences.shape   # (bsz, max_length)"
   ]
  },
  {
   "cell_type": "code",
   "execution_count": 7,
   "id": "01b45d46",
   "metadata": {},
   "outputs": [
    {
     "name": "stdout",
     "output_type": "stream",
     "text": [
      "len(outputs.scores) = 6\n",
      "len(outputs.scores[0]) = 2\n",
      "outputs.scores[0].shape = torch.Size([2, 50257])\n"
     ]
    },
    {
     "data": {
      "text/plain": [
       "(tensor([[-74.6001, -74.1407, -76.1368,  ..., -83.9544, -81.3293, -75.2622],\n",
       "         [-73.9760, -72.4697, -73.7191,  ..., -82.8011, -83.0292, -72.1608]]),\n",
       " tensor([[-85.5014, -87.6018, -89.7055,  ..., -94.1085, -93.2828, -83.6890],\n",
       "         [-58.2937, -56.6866, -57.5061,  ..., -63.5722, -65.5105, -51.6693]]),\n",
       " tensor([[ -99.6620, -100.3908, -101.2803,  ..., -109.6314, -108.2275,\n",
       "          -100.0722],\n",
       "         [ -71.7999,  -69.4696,  -71.1349,  ...,  -80.8000,  -79.5367,\n",
       "           -67.8075]]),\n",
       " tensor([[ -82.9104,  -82.5029,  -84.1082,  ...,  -91.5918,  -88.9574,\n",
       "           -82.3946],\n",
       "         [-264.2556, -259.8985, -263.1606,  ..., -284.0302, -290.5381,\n",
       "          -259.8674]]),\n",
       " tensor([[-100.0969, -100.9917,  -99.5622,  ..., -104.4349, -103.3674,\n",
       "           -97.2489],\n",
       "         [ -85.1759,  -79.4648,  -80.6355,  ...,  -96.3441,  -97.7259,\n",
       "           -85.8978]]),\n",
       " tensor([[-120.5243, -119.7859, -123.6583,  ..., -125.0602, -121.0221,\n",
       "          -119.0242],\n",
       "         [ -81.6380,  -80.2057,  -81.1145,  ...,  -82.7015,  -85.5916,\n",
       "           -79.0118]]))"
      ]
     },
     "execution_count": 7,
     "metadata": {},
     "output_type": "execute_result"
    }
   ],
   "source": [
    "print(f\"len(outputs.scores) = {len(outputs.scores)}\")  # 6 (max_length - input_length)\n",
    "print(f\"len(outputs.scores[0]) = {len(outputs.scores[0])}\")  # 2 bsz\n",
    "print(f\"outputs.scores[0].shape = {outputs.scores[0].shape}\")  # (bsz, vocab_size)\n",
    "outputs.scores"
   ]
  },
  {
   "cell_type": "code",
   "execution_count": 8,
   "id": "868f4ed3",
   "metadata": {},
   "outputs": [
    {
     "name": "stdout",
     "output_type": "stream",
     "text": [
      "scores_tensor.shape: torch.Size([2, 6, 50257])\n"
     ]
    }
   ],
   "source": [
    "# outputs.scores is a tuple of length max_length - input_length\n",
    "# Each element is a tensor of shape (bsz, vocab_size)\n",
    "\n",
    "# Convert scores to tensor, shape (bsz, max_length - input_length, vocab_size)\n",
    "scores_tensor = torch.stack(outputs.scores, dim=1)  # Shape: (bsz, max_length - input_length, vocab_size)\n",
    "print(\"scores_tensor.shape:\", scores_tensor.shape)"
   ]
  }
 ],
 "metadata": {
  "kernelspec": {
   "display_name": "videollama",
   "language": "python",
   "name": "python3"
  },
  "language_info": {
   "codemirror_mode": {
    "name": "ipython",
    "version": 3
   },
   "file_extension": ".py",
   "mimetype": "text/x-python",
   "name": "python",
   "nbconvert_exporter": "python",
   "pygments_lexer": "ipython3",
   "version": "3.9.16"
  }
 },
 "nbformat": 4,
 "nbformat_minor": 5
}
