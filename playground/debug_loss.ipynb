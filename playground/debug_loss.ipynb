{
 "cells": [
  {
   "cell_type": "code",
   "execution_count": 1,
   "id": "dc55a831",
   "metadata": {},
   "outputs": [],
   "source": [
    "import torch"
   ]
  },
  {
   "cell_type": "code",
   "execution_count": 2,
   "id": "bad58198",
   "metadata": {},
   "outputs": [],
   "source": [
    "data = torch.load(\"data/prepared_training_data_temp1.5_bsz2_shot1_q2.pt\")"
   ]
  },
  {
   "cell_type": "code",
   "execution_count": 3,
   "id": "8ec89e16",
   "metadata": {},
   "outputs": [
    {
     "data": {
      "text/plain": [
       "{'questions': ['Natalia sold clips to 48 of her friends in April, and then she sold half as many clips in May. How many clips did Natalia sell altogether in April and May?',\n",
       "  'Weng earns $12 an hour for babysitting. Yesterday, she just did 50 minutes of babysitting. How much did she earn?'],\n",
       " 'chosen_solutions': ['Natalia sold 48 clips in April. In May, she sold half as many, so the number of clips sold in May is 48/2 = 24 clips.\\nTotal number of clips sold in April and May = 48 (April) + 24 (May) = 48 + 24 = 72 clips\\n#### 72\\n\\n',\n",
       "  'Her hourly rate is $12 and she babysat for 50 minutes. First, convert the minutes to hours: 50 minutes is 50/60 = 0.833 hours.\\nNow, multiply her hourly rate by the babysitting hours: $12 * 0.833 = $<<12*0.833=9.996>>9.996\\nRounding to the nearest cent, Tonya earned $10.00.\\n#### 10.00'],\n",
       " 'reject_solutions': ['Natalia sold 48 clips in April. In May, she sold half as many, so the number of clips sold in May is 48/2 = 24 clips.\\nTotal number of clips sold in April and May = 48 (April) + 24 (May) = 48 + 24 = 72 clips\\n#### 72\\n\\n',\n",
       "  'Her hourly rate is $12 and she babysat for 50 minutes. First, convert the minutes to hours: 50 minutes is 50/60 = 0.833 hours.\\nNow, multiply her hourly rate by the babysitting hours: $12 * 0.833 = $<<12*0.833=9.996>>9.996\\nRounding to the nearest cent, Tonya earned $10.00.\\n#### 10.00'],\n",
       " 'chosen_logprobs': [-0.19928592443466187, -0.25123947858810425],\n",
       " 'reject_logprobs': [-0.19928592443466187, -0.25123947858810425],\n",
       " 'chosen_selfcertainties': [39.30139923095703, 37.18235778808594],\n",
       " 'reject_selfcertainties': [39.30139923095703, 37.18235778808594]}"
      ]
     },
     "execution_count": 3,
     "metadata": {},
     "output_type": "execute_result"
    }
   ],
   "source": [
    "data"
   ]
  },
  {
   "cell_type": "code",
   "execution_count": null,
   "id": "32c23d5e",
   "metadata": {},
   "outputs": [],
   "source": [
    "# \"<0x0A><0x0A>\" is \\n\\n, ref: https://github.com/google/sentencepiece/issues/891"
   ]
  },
  {
   "cell_type": "markdown",
   "id": "19243673",
   "metadata": {},
   "source": [
    "* To get the answer starting point, we tokenize the question along for a second time.\n",
    "* Confirmed: the template includes the assistant's response start token \"<|assistant|>\\n\".\n",
    "\n",
    "* ref:\n",
    ">>> question_text\n",
    "'<|user|>\\nNatalia sold clips to 48 of her friends in April, and then she sold half as many clips in May. How many clips did Natalia sell altogether in April and May?<|end|>\\n<|assistant|>\\n'"
   ]
  },
  {
   "cell_type": "markdown",
   "id": "3ed14705",
   "metadata": {},
   "source": [
    "* When tokenizer the entire question+answer:\n",
    ">>> tokenizer.convert_ids_to_tokens(chosen_tokens[\"input_ids\"][0])\n",
    "['<|user|>', '▁Natal', 'ia', '▁sold', '▁cli', 'ps', '▁to', '▁', '4', '8', '▁of', '▁her', '▁friends', '▁in', '▁April', ',', '▁and', '▁then', '▁she', '▁sold', '▁half', '▁as', '▁many', '▁cli', 'ps', '▁in', '▁May', '.', '▁How', '▁many', '▁cli', 'ps', '▁did', '▁Natal', 'ia', '▁sell', '▁altogether', '▁in', '▁April', '▁and', '▁May', '?', '<|end|>', '<|assistant|>', '▁Natal', 'ia', '▁sold', '▁', '4', '8', '▁cli', 'ps', '▁in', '▁April', '.', '▁In', '▁May', ',', '▁she', '▁sold', '▁half', '▁as', '▁many', ',', '▁so', '▁the', '▁number', '▁of', '▁cli', 'ps', '▁sold', '▁in', '▁May', '▁is', '▁', '4', '8', '/', '2', '▁=', '▁', '2', '4', '▁cli', 'ps', '.', '<0x0A>', 'Total', '▁number', '▁of', '▁cli', 'ps', '▁sold', '▁in', '▁April', '▁and', '▁May', '▁=', '▁', '4', '8', '▁(', 'A', 'pril', ')', '▁+', '▁', '2', '4', '▁(', 'May', ')', '▁=', '▁', '4', '8', '▁+', '▁', '2', '4', '▁=', '▁', '7', '2', '▁cli', 'ps', '<0x0A>', '####', '▁', '7', '2', '<0x0A>', '<0x0A>', '<|end|>', '<|endoftext|>']"
   ]
  },
  {
   "cell_type": "markdown",
   "id": "e4886d42",
   "metadata": {},
   "source": [
    "* When tokenizer the question only\n",
    ">>> tokenizer.convert_ids_to_tokens(question_tokens[\"input_ids\"][0])\n",
    "['<|user|>', '▁Natal', 'ia', '▁sold', '▁cli', 'ps', '▁to', '▁', '4', '8', '▁of', '▁her', '▁friends', '▁in', '▁April', ',', '▁and', '▁then', '▁she', '▁sold', '▁half', '▁as', '▁many', '▁cli', 'ps', '▁in', '▁May', '.', '▁How', '▁many', '▁cli', 'ps', '▁did', '▁Natal', 'ia', '▁sell', '▁altogether', '▁in', '▁April', '▁and', '▁May', '?', '<|end|>', '<|assistant|>']"
   ]
  },
  {
   "cell_type": "markdown",
   "id": "894f1bba",
   "metadata": {},
   "source": [
    "* but the text before tokenize, has \\n?\n",
    ">>> question_text\n",
    "'<|user|>\\nNatalia sold clips to 48 of her friends in April, and then she sold half as many clips in May. How many clips did Natalia sell altogether in April and May?<|end|>\\n<|assistant|>\\n'\n",
    ">>> "
   ]
  },
  {
   "cell_type": "markdown",
   "id": "183dc4c0",
   "metadata": {},
   "source": [
    "* \\n gets lost because of the config\n",
    "    {\n",
    "      \"id\": 32001,\n",
    "      \"content\": \"<|assistant|>\",\n",
    "      \"single_word\": false,\n",
    "      \"lstrip\": false,\n",
    "      \"rstrip\": true,\n",
    "      \"normalized\": false,\n",
    "      \"special\": true\n",
    "    },"
   ]
  },
  {
   "cell_type": "markdown",
   "id": "dfaa4810",
   "metadata": {},
   "source": [
    "### Above not a problem "
   ]
  },
  {
   "cell_type": "markdown",
   "id": "99c49c89",
   "metadata": {},
   "source": [
    "* This is the correct way of setting up mask\n",
    "* prev wrong because the answer start index didnt consider shifted by 1.\n",
    "* however, unclear if this is the cause of a bunch of \\n being generated?\n",
    "```\n",
    "for i in range(batch_size):\n",
    "        answer_start = answer_start_positions[i]\n",
    "        answer_length = answer_lengths[i]\n",
    "    \n",
    "        # Since labels = input_ids[:, 1:], we need to shift answer_start by -1\n",
    "        shifted_answer_start = max(0, answer_start - 1)\n",
    "        shifted_answer_end = min(shifted_answer_start + answer_length, seq_len)\n",
    "        \n",
    "        if shifted_answer_start < seq_len and answer_length > 0:\n",
    "            mask[i, shifted_answer_start:shifted_answer_end] = 1.0\n",
    "```"
   ]
  },
  {
   "cell_type": "markdown",
   "id": "5d54cb6f",
   "metadata": {},
   "source": [
    "* Notice, this bug affects data preparation as well due to using this function to produce logprobs for ground truth answers when a question has no correct answer.\n",
    "which means all `.pt` data is wrong and needs redo."
   ]
  },
  {
   "cell_type": "code",
   "execution_count": 5,
   "id": "1ce88c86",
   "metadata": {},
   "outputs": [],
   "source": [
    "# Now with the data fixed, we try `data/prepared_training_data_temp1.5_bsz8_shot2_q50.pt`\n",
    "data = torch.load(\"data/prepared_training_data_temp1.5_bsz8_shot2_q50.pt\")"
   ]
  },
  {
   "cell_type": "code",
   "execution_count": null,
   "id": "dcd6b566",
   "metadata": {},
   "outputs": [
    {
     "data": {
      "text/plain": [
       "'Natalia sold 48 clips in April.\\nIn May, she sold half as many as in April, so she sold 48/2 = <<48/2=24>>24 clips.\\nAltogether, Natalia sold 48 + 24 = <<48+24=72>>72 clips in April and May.\\n#### 72'"
      ]
     },
     "execution_count": 9,
     "metadata": {},
     "output_type": "execute_result"
    },
    {
     "ename": "",
     "evalue": "",
     "output_type": "error",
     "traceback": [
      "\u001b[1;31mThe Kernel crashed while executing code in the current cell or a previous cell. \n",
      "\u001b[1;31mPlease review the code in the cell(s) to identify a possible cause of the failure. \n",
      "\u001b[1;31mClick <a href='https://aka.ms/vscodeJupyterKernelCrash'>here</a> for more info. \n",
      "\u001b[1;31mView Jupyter <a href='command:jupyter.viewOutput'>log</a> for further details."
     ]
    }
   ],
   "source": [
    "data[\"chosen_solutions\"][0]"
   ]
  },
  {
   "cell_type": "markdown",
   "id": "6c015426",
   "metadata": {},
   "source": [
    "### Decision: lets not fix the q5000 for now as unlikely it was the cause of the big bug but something else, see below."
   ]
  },
  {
   "cell_type": "markdown",
   "id": "63a8cf39",
   "metadata": {},
   "source": [
    "### Moving on:"
   ]
  },
  {
   "cell_type": "code",
   "execution_count": null,
   "id": "0d10b777",
   "metadata": {},
   "outputs": [],
   "source": [
    "* One big mistake/missing was the training data didnt involve n-shot examples. So the formatting was all messed up.\n",
    "* So lets train on q5000, monitor progress and see if the problem persists (predicting \\n)."
   ]
  }
 ],
 "metadata": {
  "kernelspec": {
   "display_name": "videollama",
   "language": "python",
   "name": "python3"
  },
  "language_info": {
   "codemirror_mode": {
    "name": "ipython",
    "version": 3
   },
   "file_extension": ".py",
   "mimetype": "text/x-python",
   "name": "python",
   "nbconvert_exporter": "python",
   "pygments_lexer": "ipython3",
   "version": "3.9.16"
  }
 },
 "nbformat": 4,
 "nbformat_minor": 5
}
